{
 "cells": [
  {
   "cell_type": "markdown",
   "metadata": {},
   "source": [
    "### Exercícios - Capítulo 5 - Partes 1 e 2"
   ]
  },
  {
   "cell_type": "markdown",
   "metadata": {},
   "source": [
    "1. Crie duas Series com os seguintes valores: \n",
    "\n",
    "• seriesAno1: {‘Java’: 16.25, ‘C’: 16.04, ‘Python’: 9.85} \n",
    "\n",
    "• seriesAno2: {‘C’: 16.21, ‘Python’: 12.12, ‘Java’: 11.68}\n"
   ]
  },
  {
   "cell_type": "code",
   "execution_count": 1,
   "metadata": {},
   "outputs": [],
   "source": [
    "import pandas as pd\n",
    "import numpy as np\n",
    "\n",
    "# Criar Series\n",
    "seriesAno1 = pd.Series({'Java': 16.25, 'C': 16.04, 'Python': 9.85})\n",
    "seriesAno2 = pd.Series({'C': 16.21, 'Python': 12.12, 'Java': 11.68})"
   ]
  },
  {
   "cell_type": "markdown",
   "metadata": {},
   "source": [
    "2. Os valores das Series criadas na Questão 1 representam as fatias de mercado (porcentagem) de 3 linguagens de programação populares em dois anos consecutivos. Para cada ano, apresente a porcentagem total que elas juntas representam no mercado;\n"
   ]
  },
  {
   "cell_type": "code",
   "execution_count": 2,
   "metadata": {},
   "outputs": [
    {
     "name": "stdout",
     "output_type": "stream",
     "text": [
      "No ano 1, a porcentagem total que elas representam no mercado é de 42.14%.\n",
      "No ano 2, a porcentagem total que elas representam no mercado é de 40.01%.\n"
     ]
    }
   ],
   "source": [
    "# Somar porcentagem de cada ano\n",
    "porcentAno1 = seriesAno1.sum()\n",
    "porcentAno2 = seriesAno2.sum()\n",
    "\n",
    "print(f'No ano 1, a porcentagem total que elas representam no mercado é de {porcentAno1:.2f}%.')\n",
    "print(f'No ano 2, a porcentagem total que elas representam no mercado é de {porcentAno2:.2f}%.')"
   ]
  },
  {
   "cell_type": "markdown",
   "metadata": {},
   "source": [
    "3. Apresente o crescimento/declínio no mercado de cada linguagem do primeiro ano para o segundo ano;\n"
   ]
  },
  {
   "cell_type": "code",
   "execution_count": 8,
   "metadata": {},
   "outputs": [
    {
     "name": "stdout",
     "output_type": "stream",
     "text": [
      "C teve um crescimento de 0.17% no mercado.\n",
      "Java teve um declínio de 4.57% no mercado.\n",
      "Python teve um crescimento de 2.27% no mercado.\n"
     ]
    }
   ],
   "source": [
    "# Calcular alteração no mercado\n",
    "alteracao = seriesAno2.sub(seriesAno1)\n",
    "\n",
    "for linguagem, valor in alteracao.items():\n",
    "    if(valor<0):\n",
    "        print(f'{linguagem} teve um declínio de {-valor:.2f}% no mercado.')\n",
    "    elif (valor>0):\n",
    "        print(f'{linguagem} teve um crescimento de {valor:.2f}% no mercado.')\n",
    "    else:\n",
    "        print(f'{linguagem} não teve alteração no mercado.')"
   ]
  },
  {
   "cell_type": "markdown",
   "metadata": {},
   "source": [
    "4. Baseado nos resultados da Questão 3, mostre apenas os dados das linguagens que tiveram crescimento;"
   ]
  },
  {
   "cell_type": "code",
   "execution_count": 9,
   "metadata": {},
   "outputs": [
    {
     "name": "stdout",
     "output_type": "stream",
     "text": [
      "As linguagens que tiveram crescimento foram:\n",
      "C         0.17\n",
      "Python    2.27\n",
      "dtype: float64\n"
     ]
    }
   ],
   "source": [
    "# Separar linguagens que tiveram crescimento\n",
    "crescimento = alteracao[alteracao > 0]\n",
    "\n",
    "print('As linguagens que tiveram crescimento foram:')\n",
    "print(crescimento)"
   ]
  },
  {
   "cell_type": "markdown",
   "metadata": {},
   "source": [
    "5. Se estas porcentagens de crescimento/declínio se mantivessem iguais para os próximos 2 anos, qual seria a linguagem mais popular? Dica: use o método nlargest(1) no final para retornar rapidamente a label\n"
   ]
  },
  {
   "cell_type": "code",
   "execution_count": 17,
   "metadata": {},
   "outputs": [
    {
     "name": "stdout",
     "output_type": "stream",
     "text": [
      "A linguagem mais popular seria Python    16.66\n",
      "dtype: float64.\n"
     ]
    }
   ],
   "source": [
    "# Calcular alteracao para proximos 2 anos\n",
    "seriesAno4 = seriesAno2.add(alteracao).add(alteracao)\n",
    "\n",
    "maisPopular = seriesAno4.nlargest(1)\n",
    "\n",
    "print(f'A linguagem mais popular seria {maisPopular}.')"
   ]
  },
  {
   "cell_type": "markdown",
   "metadata": {},
   "source": [
    "6. Utilizando do DataFrame exemplo do tópico 5.3 deste material, calcule a média dos elementos da coluna X que são menores que 30;\n"
   ]
  },
  {
   "cell_type": "code",
   "execution_count": 20,
   "metadata": {},
   "outputs": [
    {
     "name": "stdout",
     "output_type": "stream",
     "text": [
      "A média dos elementos da coluna X que são menores que 30 é 17.5.\n"
     ]
    }
   ],
   "source": [
    "# Plantando uma semente aleatoria\n",
    "np.random.seed(10)\n",
    "\n",
    "# Criando o DataFrame\n",
    "df = pd.DataFrame(index=['A', 'B', 'C', 'D', 'E'],\n",
    "                  columns=['W', 'X', 'Y', 'Z'],\n",
    "                  data=np.random.randint(1, 50, [5, 4]))\n",
    "\n",
    "# Separar elementos da coluna X menores que 30 e calcular media\n",
    "mediaColXMenor30 = df['X'][df['X']<30].mean()\n",
    "print(f'A média dos elementos da coluna X que são menores que 30 é {mediaColXMenor30}.')\n"
   ]
  },
  {
   "cell_type": "markdown",
   "metadata": {},
   "source": [
    "7. Utilizando do mesmo DataFrame, apresente a média dos elementos da linha D usando a função loc() como base e a soma dos elementos da linha E usando a função iloc() como base;\n"
   ]
  },
  {
   "cell_type": "code",
   "execution_count": 35,
   "metadata": {},
   "outputs": [
    {
     "name": "stdout",
     "output_type": "stream",
     "text": [
      "A média dos elementos da linha D é 34.5.\n",
      "A soma dos elementos da linha E é 122.\n"
     ]
    }
   ],
   "source": [
    "# Separar elementos da linha D com loc() e calcular media\n",
    "mediaLinhaD = df.loc['D'].mean()\n",
    "\n",
    "# Separar elementos da linha E com iloc() e calcular soma\n",
    "somaLinhaE = df.iloc[4].sum()\n",
    "\n",
    "print(f'A média dos elementos da linha D é {mediaLinhaD}.')\n",
    "print(f'A soma dos elementos da linha E é {somaLinhaE}.')"
   ]
  },
  {
   "cell_type": "markdown",
   "metadata": {},
   "source": [
    "8. Faça um Slicing na matriz mostrando apenas as linhas A, C e E juntamente com as colunas X e Y. Em seguida, mostre qual seria a soma dos elementos de cada uma destas linhas e cada uma destas colunas."
   ]
  },
  {
   "cell_type": "code",
   "execution_count": 43,
   "metadata": {},
   "outputs": [
    {
     "name": "stdout",
     "output_type": "stream",
     "text": [
      "A soma dos elementos de cada linha é:\n",
      " A    53\n",
      "C    19\n",
      "E    60\n",
      "dtype: int64\n",
      "A soma dos elementos de cada coluna é:\n",
      " X    94\n",
      "Y    38\n",
      "dtype: int64\n"
     ]
    }
   ],
   "source": [
    "# Slicinf das linhas A, C e E e colunas X e Y\n",
    "slicing = df.loc[['A', 'C', 'E'], ['X', 'Y']]\n",
    "\n",
    "# Soma das linhas\n",
    "somaLinhas = slicing.sum(axis=1)\n",
    "\n",
    "# Soma das colunas\n",
    "somaColunas = slicing.sum(axis=0)\n",
    "\n",
    "print('A soma dos elementos de cada linha é:\\n', somaLinhas)\n",
    "print('A soma dos elementos de cada coluna é:\\n', somaColunas)"
   ]
  }
 ],
 "metadata": {
  "kernelspec": {
   "display_name": "Python 3",
   "language": "python",
   "name": "python3"
  },
  "language_info": {
   "codemirror_mode": {
    "name": "ipython",
    "version": 3
   },
   "file_extension": ".py",
   "mimetype": "text/x-python",
   "name": "python",
   "nbconvert_exporter": "python",
   "pygments_lexer": "ipython3",
   "version": "3.11.4"
  }
 },
 "nbformat": 4,
 "nbformat_minor": 2
}
