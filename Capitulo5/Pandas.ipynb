{
 "cells": [
  {
   "cell_type": "markdown",
   "metadata": {},
   "source": [
    "## Introdução ao Pandas"
   ]
  },
  {
   "cell_type": "markdown",
   "metadata": {},
   "source": [
    "Pandas Series"
   ]
  },
  {
   "cell_type": "code",
   "execution_count": null,
   "metadata": {},
   "outputs": [
    {
     "name": "stdout",
     "output_type": "stream",
     "text": [
      "a    10\n",
      "b    20\n",
      "c    30\n",
      "dtype: int64\n",
      "<class 'pandas.core.series.Series'>\n",
      "20\n",
      "a    20.0\n",
      "b     NaN\n",
      "c    80.0\n",
      "d     NaN\n",
      "dtype: float64\n",
      "a    20.0\n",
      "b    20.0\n",
      "c    80.0\n",
      "d    80.0\n",
      "dtype: float64\n",
      "a    10\n",
      "c    30\n",
      "dtype: int64\n"
     ]
    }
   ],
   "source": [
    "import pandas as pd\n",
    "import numpy as np\n",
    "\n",
    "labels = ['a', 'b', 'c']\n",
    "dados = [10, 20, 30]\n",
    "# Criando uma series com duas listas\n",
    "s1 = pd.Series(index=labels, data=dados)\n",
    "\n",
    "#Criando uma series com um dicionario\n",
    "s2 = pd.Series({'a':10, 'c':50, 'd':80})\n",
    "\n",
    "print(s1)\n",
    "print(type(s1))\n",
    "\n",
    "# Chamando um valor da Series\n",
    "print(s1['b'])\n",
    "\n",
    "# Operacoes entre series\n",
    "print(s1 + s2)\n",
    "\n",
    "print(s1.add(s2, fill_value=0))\n",
    "\n",
    "# Acessar apenas o que precisamos\n",
    "print(s1[['a', 'c']])"
   ]
  },
  {
   "cell_type": "code",
   "execution_count": 8,
   "metadata": {},
   "outputs": [
    {
     "name": "stdout",
     "output_type": "stream",
     "text": [
      "a    False\n",
      "b    False\n",
      "c     True\n",
      "dtype: bool\n",
      "c    30\n",
      "dtype: int64\n"
     ]
    }
   ],
   "source": [
    "# Condicionais no Pandas (identico ao NumPy)\n",
    "print(s1 > s1.mean())\n",
    "print(s1[s1 > s1.mean()])"
   ]
  },
  {
   "cell_type": "markdown",
   "metadata": {},
   "source": [
    "Pandas DataFrames"
   ]
  },
  {
   "cell_type": "code",
   "execution_count": 16,
   "metadata": {},
   "outputs": [
    {
     "name": "stdout",
     "output_type": "stream",
     "text": [
      "    W   X   Y   Z\n",
      "A  10  37  16   1\n",
      "B  29  26  30  49\n",
      "C  30   9  10   1\n",
      "D  43  41  37  17\n",
      "E  37  48  12  25\n",
      "    W   Z\n",
      "A  10   1\n",
      "B  29  49\n",
      "C  30   1\n",
      "D  43  17\n",
      "E  37  25\n",
      "26\n",
      "    W   X   Z\n",
      "A  10  37   1\n",
      "B  29  26  49\n",
      "    W   X   Y   Z\n",
      "A  10  37  16   1\n",
      "B  29  26  30  49\n"
     ]
    }
   ],
   "source": [
    "# Plantando uma semente aleatoria\n",
    "np.random.seed(10)\n",
    "\n",
    "# Criando um DataFrame\n",
    "df = pd.DataFrame(index=['A', 'B', 'C', 'D', 'E'],\n",
    "                  columns=['W', 'X', 'Y', 'Z'],\n",
    "                  data=np.random.randint(1, 50, [5, 4]))\n",
    "print(df)\n",
    "\n",
    "# Slicing com multiplas colunas\n",
    "print(df[['W', 'Z']])\n",
    "\n",
    "# Acessando um elemento do DataFrame\n",
    "print(df['X']['B']) # coluna seguido de linha\n",
    "\n",
    "# Fazendo Slicing com loc() ou iloc()\n",
    "# Slicing com loc()\n",
    "print(df.loc[['A', 'B'],['W', 'X', 'Z']])\n",
    "#Slicing com iloc()\n",
    "print(df.iloc[0:2, :])"
   ]
  }
 ],
 "metadata": {
  "kernelspec": {
   "display_name": "Python 3",
   "language": "python",
   "name": "python3"
  },
  "language_info": {
   "codemirror_mode": {
    "name": "ipython",
    "version": 3
   },
   "file_extension": ".py",
   "mimetype": "text/x-python",
   "name": "python",
   "nbconvert_exporter": "python",
   "pygments_lexer": "ipython3",
   "version": "3.11.4"
  }
 },
 "nbformat": 4,
 "nbformat_minor": 2
}
