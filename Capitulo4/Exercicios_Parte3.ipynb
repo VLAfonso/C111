{
 "cells": [
  {
   "cell_type": "markdown",
   "metadata": {},
   "source": [
    "### Exercícios - Capítulo 4"
   ]
  },
  {
   "cell_type": "markdown",
   "metadata": {},
   "source": [
    "Baseado nos commandos que vimos até o momento e no Dataset fornecido, crie scripts em Python que respondam às seguintes perguntas: "
   ]
  },
  {
   "cell_type": "code",
   "execution_count": 1,
   "metadata": {},
   "outputs": [
    {
     "name": "stdout",
     "output_type": "stream",
     "text": [
      "['\\ufeffNum' 'Company Name' 'Location' 'Datum' 'Detail' 'Status Rocket'\n",
      " ' Cost' 'Status Mission']\n"
     ]
    }
   ],
   "source": [
    "import numpy as np\n",
    "\n",
    "# Abrir dataset\n",
    "dataset = np.loadtxt('space.csv', delimiter=';', dtype='str', encoding='utf-8')\n",
    "\n",
    "# Mostrar tipo informação de cada coluna\n",
    "print(dataset[0,:])"
   ]
  },
  {
   "cell_type": "markdown",
   "metadata": {},
   "source": [
    "1. Apresente a porcentagem de missões que deram certo "
   ]
  },
  {
   "cell_type": "code",
   "execution_count": 2,
   "metadata": {},
   "outputs": [
    {
     "name": "stdout",
     "output_type": "stream",
     "text": [
      "A porcentagem de missões que deram certo é de 89.71%.\n"
     ]
    }
   ],
   "source": [
    "# Separar status das missões e quantas vezes se repete\n",
    "statusMissoes, qtdStatusMissoes = np.unique(dataset[1:,7], return_counts=True)\n",
    "\n",
    "# Calcular total de missões que deram certo e sua porcentagem\n",
    "qtdSucesso = qtdStatusMissoes[np.char.find(statusMissoes, 'Success') >= 0][0]\n",
    "totalMissoes = qtdStatusMissoes.sum()\n",
    "porSucesso = qtdSucesso/totalMissoes * 100\n",
    "\n",
    "print(f'A porcentagem de missões que deram certo é de {porSucesso:.2f}%.')\n"
   ]
  },
  {
   "cell_type": "markdown",
   "metadata": {},
   "source": [
    "2. Qual a media de gastos de uma missão especial se baseando em missões que possuam valores disponíveis (> 0)?"
   ]
  },
  {
   "cell_type": "code",
   "execution_count": 3,
   "metadata": {},
   "outputs": [
    {
     "name": "stdout",
     "output_type": "stream",
     "text": [
      "A média dos gastos é 153.79\n"
     ]
    }
   ],
   "source": [
    "# Separar gastos (cost)\n",
    "gastos = np.asarray(dataset[1:, 6], dtype=float)\n",
    "gastos = gastos[gastos > 0] #apenas valores disponíveis\n",
    "\n",
    "# Calcular media dos gastos\n",
    "mediaGastos = gastos.mean()\n",
    "\n",
    "print(f'A média dos gastos é {mediaGastos:.2f}')"
   ]
  },
  {
   "cell_type": "markdown",
   "metadata": {},
   "source": [
    "3. Encontre quantas missões espaciais neste Dataset foram realizadas pelos Estados Unidos (EUA)"
   ]
  },
  {
   "cell_type": "code",
   "execution_count": 4,
   "metadata": {},
   "outputs": [
    {
     "name": "stdout",
     "output_type": "stream",
     "text": [
      "Os Estados Unidos (EUA) realizaram 1344 missões espaciais.\n"
     ]
    }
   ],
   "source": [
    "# Separar locais\n",
    "locais = dataset[1:, 2]\n",
    "\n",
    "# Separar missões dos EUA (USA)\n",
    "usa = locais[np.char.find(locais, 'USA') >= 0]\n",
    "qtd_usa = len(usa) #qtd das missões dos EUA\n",
    "\n",
    "print(f'Os Estados Unidos (EUA) realizaram {qtd_usa} missões espaciais.')"
   ]
  },
  {
   "cell_type": "markdown",
   "metadata": {},
   "source": [
    "4. Encontre qual foi a missão mais cara realizada pela empresas “SpaceX”"
   ]
  },
  {
   "cell_type": "code",
   "execution_count": 5,
   "metadata": {},
   "outputs": [
    {
     "name": "stdout",
     "output_type": "stream",
     "text": [
      "A missão mais cara da SpaceX foi a Falcon Heavy | STP-2\n"
     ]
    }
   ],
   "source": [
    "# Separar missões da SpaceX\n",
    "spaceX = dataset[1:][np.char.find(dataset[1:, 1], 'SpaceX') >= 0]\n",
    "\n",
    "# Buscar nome da missão mais cara\n",
    "indiceMissao = np.asarray(spaceX[:,6], dtype=float).argmax() #indice da missão mais cara\n",
    "missaoSpaceX = spaceX[indiceMissao][4]\n",
    "\n",
    "\n",
    "print('A missão mais cara da SpaceX foi a', missaoSpaceX)"
   ]
  },
  {
   "cell_type": "markdown",
   "metadata": {},
   "source": [
    "5. Mostre o nome das empresas que já realizaram missões espaciais, juntamente com suas respectivas quantidades de missões (use o for no final para mostrar as informações)"
   ]
  },
  {
   "cell_type": "code",
   "execution_count": 6,
   "metadata": {},
   "outputs": [
    {
     "name": "stdout",
     "output_type": "stream",
     "text": [
      "A empresa AEB realizou 3 missões.\n",
      "A empresa AMBA realizou 8 missões.\n",
      "A empresa ASI realizou 9 missões.\n",
      "A empresa Arianespace realizou 279 missões.\n",
      "A empresa Arm??e de l'Air realizou 4 missões.\n",
      "A empresa Blue Origin realizou 12 missões.\n",
      "A empresa Boeing realizou 136 missões.\n",
      "A empresa CASC realizou 251 missões.\n",
      "A empresa CASIC realizou 5 missões.\n",
      "A empresa CECLES realizou 4 missões.\n",
      "A empresa CNES realizou 8 missões.\n",
      "A empresa Douglas realizou 1 missões.\n",
      "A empresa EER realizou 1 missões.\n",
      "A empresa ESA realizou 13 missões.\n",
      "A empresa Eurockot realizou 13 missões.\n",
      "A empresa ExPace realizou 10 missões.\n",
      "A empresa Exos realizou 4 missões.\n",
      "A empresa General Dynamics realizou 251 missões.\n",
      "A empresa IAI realizou 11 missões.\n",
      "A empresa ILS realizou 46 missões.\n",
      "A empresa IRGC realizou 1 missões.\n",
      "A empresa ISA realizou 13 missões.\n",
      "A empresa ISAS realizou 30 missões.\n",
      "A empresa ISRO realizou 76 missões.\n",
      "A empresa JAXA realizou 7 missões.\n",
      "A empresa KARI realizou 3 missões.\n",
      "A empresa KCST realizou 5 missões.\n",
      "A empresa Khrunichev realizou 1 missões.\n",
      "A empresa Kosmotras realizou 22 missões.\n",
      "A empresa Land Launch realizou 7 missões.\n",
      "A empresa Landspace realizou 1 missões.\n",
      "A empresa Lockheed realizou 79 missões.\n",
      "A empresa MHI realizou 84 missões.\n",
      "A empresa MITT realizou 7 missões.\n",
      "A empresa Martin Marietta realizou 114 missões.\n",
      "A empresa NASA realizou 203 missões.\n",
      "A empresa Northrop realizou 83 missões.\n",
      "A empresa OKB-586 realizou 2 missões.\n",
      "A empresa OneSpace realizou 1 missões.\n",
      "A empresa RAE realizou 2 missões.\n",
      "A empresa RVSN USSR realizou 1777 missões.\n",
      "A empresa Rocket Lab realizou 13 missões.\n",
      "A empresa Roscosmos realizou 55 missões.\n",
      "A empresa SRC realizou 3 missões.\n",
      "A empresa Sandia realizou 1 missões.\n",
      "A empresa Sea Launch realizou 36 missões.\n",
      "A empresa SpaceX realizou 100 missões.\n",
      "A empresa Starsem realizou 1 missões.\n",
      "A empresa ULA realizou 140 missões.\n",
      "A empresa US Air Force realizou 161 missões.\n",
      "A empresa US Navy realizou 17 missões.\n",
      "A empresa UT realizou 5 missões.\n",
      "A empresa VKS RF realizou 201 missões.\n",
      "A empresa Virgin Orbit realizou 1 missões.\n",
      "A empresa Yuzhmash realizou 2 missões.\n",
      "A empresa i-Space realizou 1 missões.\n"
     ]
    }
   ],
   "source": [
    "# Separar nomes das empresas e qtds de missões\n",
    "empresas, qtdMissoes = np.unique(dataset[1:, 1], return_counts= True)\n",
    "\n",
    "for count in range(0, len(empresas)):\n",
    "    print('A empresa {} realizou {} missões.'.format(empresas[count], qtdMissoes[count]))"
   ]
  }
 ],
 "metadata": {
  "kernelspec": {
   "display_name": "Python 3",
   "language": "python",
   "name": "python3"
  },
  "language_info": {
   "codemirror_mode": {
    "name": "ipython",
    "version": 3
   },
   "file_extension": ".py",
   "mimetype": "text/x-python",
   "name": "python",
   "nbconvert_exporter": "python",
   "pygments_lexer": "ipython3",
   "version": "3.11.4"
  }
 },
 "nbformat": 4,
 "nbformat_minor": 2
}
