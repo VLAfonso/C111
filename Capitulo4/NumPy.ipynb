{
 "cells": [
  {
   "cell_type": "markdown",
   "metadata": {},
   "source": [
    "## Introdução ao NumPy"
   ]
  },
  {
   "cell_type": "markdown",
   "metadata": {},
   "source": [
    "Iniciando com o NumPy"
   ]
  },
  {
   "cell_type": "code",
   "execution_count": 19,
   "metadata": {},
   "outputs": [
    {
     "name": "stdout",
     "output_type": "stream",
     "text": [
      "[1 2 3]\n",
      "[[1 2 3]\n",
      " [4 5 6]\n",
      " [7 8 9]]\n"
     ]
    }
   ],
   "source": [
    "import numpy as np\n",
    "\n",
    "# NumPy Array Unidimensional\n",
    "arr = np.array([1, 2, 3])\n",
    "\n",
    "# NumPy Array Bidimensional\n",
    "mtz = np.array([[1, 2, 3], [4, 5, 6], [7, 8, 9]])\n",
    "\n",
    "print(arr)\n",
    "print(mtz)"
   ]
  },
  {
   "cell_type": "markdown",
   "metadata": {},
   "source": [
    "Criando NUmPy Arrays com mais facilidade"
   ]
  },
  {
   "cell_type": "code",
   "execution_count": 20,
   "metadata": {},
   "outputs": [
    {
     "name": "stdout",
     "output_type": "stream",
     "text": [
      "[[1. 1. 1. 1. 1.]\n",
      " [1. 1. 1. 1. 1.]\n",
      " [1. 1. 1. 1. 1.]\n",
      " [1. 1. 1. 1. 1.]\n",
      " [1. 1. 1. 1. 1.]]\n",
      "[0 1 2 3 4 5 6 7 8 9]\n",
      "[10 12 14 16 18 20 22 24 26 28]\n"
     ]
    }
   ],
   "source": [
    "# Estrututando rapidamente uma matriz de 1's\n",
    "mtz = np.ones([5,5])\n",
    "print(mtz)\n",
    "\n",
    "# Arange\n",
    "mtz = np.arange(10)\n",
    "print(mtz)\n",
    "\n",
    "arr = np.arange(10, 30, 2)\n",
    "print(arr)"
   ]
  },
  {
   "cell_type": "markdown",
   "metadata": {},
   "source": [
    "Operações com NumPy Arrays"
   ]
  },
  {
   "cell_type": "code",
   "execution_count": 21,
   "metadata": {},
   "outputs": [
    {
     "name": "stdout",
     "output_type": "stream",
     "text": [
      "1 4\n",
      "0 3\n",
      "2.5 10\n",
      "[ 6  8 10 12]\n",
      "[1 2 3 4 5 6 7 8]\n"
     ]
    }
   ],
   "source": [
    "arr1 = np.array([1, 2, 3, 4])\n",
    "arr2 = np.array([5, 6, 7, 8])\n",
    "\n",
    "print(arr1.min(), arr1.max())\n",
    "print(arr1.argmin(), arr2.argmax())\n",
    "\n",
    "print(arr1.mean(), arr1.sum())\n",
    "\n",
    "# Operações entre dois ou mais arrays\n",
    "arr3 = arr1+arr2\n",
    "print(arr3)\n",
    "\n",
    "# Concatenando NumPy Arrays\n",
    "arr4 = np.concatenate([arr1, arr2])\n",
    "print(arr4)"
   ]
  },
  {
   "cell_type": "markdown",
   "metadata": {},
   "source": [
    "Reshape de NumPy Arrays"
   ]
  },
  {
   "cell_type": "code",
   "execution_count": 22,
   "metadata": {},
   "outputs": [
    {
     "name": "stdout",
     "output_type": "stream",
     "text": [
      "[[0 1 2]\n",
      " [3 4 5]\n",
      " [6 7 8]]\n",
      "9\n",
      "(3, 3)\n",
      "2\n",
      "9\n",
      "[ 3 12 21]\n"
     ]
    }
   ],
   "source": [
    "mtz = np.arange(9).reshape(3,3)\n",
    "print(mtz)\n",
    "\n",
    "print(mtz.size)\n",
    "print(mtz.shape)\n",
    "print(mtz.ndim)\n",
    "\n",
    "# Operações nas linhas e colunas da matriz\n",
    "print(mtz.sum(axis=0)[0])\n",
    "print(mtz.sum(axis=1))"
   ]
  },
  {
   "cell_type": "markdown",
   "metadata": {},
   "source": [
    "Broadcasting"
   ]
  },
  {
   "cell_type": "code",
   "execution_count": 23,
   "metadata": {},
   "outputs": [
    {
     "name": "stdout",
     "output_type": "stream",
     "text": [
      "[[0.  0.5 1. ]\n",
      " [1.5 2.  2.5]\n",
      " [3.  3.5 4. ]]\n"
     ]
    }
   ],
   "source": [
    "print(mtz/2)"
   ]
  },
  {
   "cell_type": "markdown",
   "metadata": {},
   "source": [
    "Elementos Aleatórios e Únicos"
   ]
  },
  {
   "cell_type": "code",
   "execution_count": 29,
   "metadata": {},
   "outputs": [
    {
     "name": "stdout",
     "output_type": "stream",
     "text": [
      "[[29 49 24 35 20]\n",
      " [37 47 48 45 49]\n",
      " [36 49 37 46 28]\n",
      " [29 20 30 28 42]\n",
      " [24 39 36 24 35]]\n",
      "(array([20, 24, 28, 29, 30, 35, 36, 37, 39, 42, 45, 46, 47, 48, 49],\n",
      "      dtype=int32), array([2, 3, 2, 2, 1, 2, 2, 2, 1, 1, 1, 1, 1, 1, 3]))\n"
     ]
    }
   ],
   "source": [
    "# Gerando números aletórios\n",
    "np.random.seed(10)\n",
    "arr = np.random.randint(20, 50, [5, 5])\n",
    "print(arr)\n",
    "\n",
    "# Extraindo elementos únicos com unique\n",
    "print(np.unique(arr, return_counts=True))\n"
   ]
  }
 ],
 "metadata": {
  "kernelspec": {
   "display_name": "Python 3",
   "language": "python",
   "name": "python3"
  },
  "language_info": {
   "codemirror_mode": {
    "name": "ipython",
    "version": 3
   },
   "file_extension": ".py",
   "mimetype": "text/x-python",
   "name": "python",
   "nbconvert_exporter": "python",
   "pygments_lexer": "ipython3",
   "version": "3.11.4"
  }
 },
 "nbformat": 4,
 "nbformat_minor": 2
}
