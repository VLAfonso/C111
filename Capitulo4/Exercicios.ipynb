{
 "cells": [
  {
   "cell_type": "markdown",
   "metadata": {},
   "source": [
    "### Exercícios - Capítulo 4"
   ]
  },
  {
   "cell_type": "code",
   "execution_count": 1,
   "metadata": {},
   "outputs": [],
   "source": [
    "import numpy as np"
   ]
  },
  {
   "cell_type": "markdown",
   "metadata": {},
   "source": [
    "1. Crie dois NumPy Arrays unidimensionais de tamanho 8: um formado apenas por 1’s e outro formado por números aleatórios entre 0 e 9. Some estes dois NumPy Arrays e guarde o resultado dentro de um terceiro NumPy Array. Por fim, faça o seguinte:\n",
    "\n",
    "    a. Se a soma de todos os elementos do Array resultante for >= 40, remodele este NumPy Array para se tornar uma matriz com mais linhas do que colunas. Senão, remodele para que se torne uma matriz com mais colunas do que linhas. "
   ]
  },
  {
   "cell_type": "code",
   "execution_count": 2,
   "metadata": {},
   "outputs": [
    {
     "name": "stdout",
     "output_type": "stream",
     "text": [
      "[1. 1. 1. 1. 1. 1. 1. 1.] [2 4 1 1 5 6 1 5] [3. 5. 2. 2. 6. 7. 2. 6.]\n",
      "Soma:  33.0\n",
      "Array remodelado:  [[3. 5. 2. 2.]\n",
      " [6. 7. 2. 6.]]\n"
     ]
    }
   ],
   "source": [
    "arr1 = np.ones(8) # array de 1's\n",
    "arr2 = np.random.randint(0,10,8) # array de núm aleatórios\n",
    "\n",
    "arr3 = arr1+arr2\n",
    "\n",
    "# Mostrar os arrays criados\n",
    "print(arr1, arr2, arr3)\n",
    "\n",
    "if arr3.sum() >= 40:\n",
    "    arr4 = arr3.reshape(4,2)\n",
    "else:\n",
    "    arr4 = arr3.reshape(2,4)\n",
    "\n",
    "print('Soma: ', arr3.sum())\n",
    "print('Array remodelado: ', arr4)"
   ]
  },
  {
   "cell_type": "markdown",
   "metadata": {},
   "source": [
    "2. Crie dois NumPy Arrays unidimensionais: um de números pares de 0 à 51 e outro também de números pares de 100 até 50. Em seguida, os concatene e mostre os resultados ordenados "
   ]
  },
  {
   "cell_type": "code",
   "execution_count": 3,
   "metadata": {},
   "outputs": [
    {
     "name": "stdout",
     "output_type": "stream",
     "text": [
      "[  0   2   4   6   8  10  12  14  16  18  20  22  24  26  28  30  32  34\n",
      "  36  38  40  42  44  46  48  50  52  54  56  58  60  62  64  66  68  70\n",
      "  72  74  76  78  80  82  84  86  88  90  92  94  96  98 100]\n"
     ]
    }
   ],
   "source": [
    "arr1 = np.arange(0, 51, 2)\n",
    "arr2 = np.arange(100, 50, -2)\n",
    "\n",
    "# Concatenar e ordenar arrays\n",
    "arr3 = np.sort(np.concatenate((arr1, arr2)))\n",
    "print(arr3)"
   ]
  },
  {
   "cell_type": "markdown",
   "metadata": {},
   "source": [
    "3. Mini Campo Minado\n",
    "\n",
    "    a) Crie um NumPy Array 2x2 formado apenas por 0’s\n",
    "\n",
    "    b) Em seguida, adicione um número 1 em uma posição aleatória desta matriz;\n",
    "    \n",
    "    c) Faça uma entrada de dados para solicitar o usuário que faça uma jogada (selecione uma posição da matriz)\n",
    "\n",
    "    I. Se ele selecionar todas as posições em que o número 1 não se encontra, mostre a mensagem “Congratulations! You beat the game! :)”\n",
    "        \n",
    "    II. Senão, se dentro das 3 primeiras jogadas ele achar o número 1, mostre a mensagem “Game Over! :( Try Again!”"
   ]
  },
  {
   "cell_type": "code",
   "execution_count": 4,
   "metadata": {},
   "outputs": [
    {
     "name": "stdout",
     "output_type": "stream",
     "text": [
      "Campo Minado!\n",
      "\n",
      "Faça uma jogada!\n",
      "Você está seguro!\n",
      "\n",
      "Faça uma jogada!\n",
      "Game Over! :( Try Again!\n"
     ]
    }
   ],
   "source": [
    "campo = np.zeros([2,2]) # criar campo minado de 0's\n",
    "\n",
    "campo[tuple(np.random.randint(0, 2, 2))] = 1 # adicionar 1 em posição aleatória\n",
    "\n",
    "print('Campo Minado!')\n",
    "while campo.sum()!=7:\n",
    "    print('\\nFaça uma jogada!')\n",
    "    x = int(input('Qual a posição x?'))\n",
    "    y = int(input('Qual a posição y?'))\n",
    "\n",
    "    if (x not in range(0,2))or(y not in range(0,2)):\n",
    "        print('Posição inválida! Entre com valores 0 ou 1 para x e y!')\n",
    "    elif campo[x,y]==1:\n",
    "        print('Game Over! :( Try Again!')\n",
    "        break\n",
    "    else:\n",
    "        campo[x,y] = 2\n",
    "        print('Você está seguro!')      \n",
    "\n",
    "if campo.sum()==7:\n",
    "    print('Congratulations! You beat the game! :)')"
   ]
  },
  {
   "cell_type": "markdown",
   "metadata": {},
   "source": [
    "4. Crie uma matriz de tamanho qualquer. Extraia seu número de linhas e colunas, multiplique-os, e diga se esta matriz poderia se tornar um vetor unidimensional com número par ou ímpar de elementos"
   ]
  },
  {
   "cell_type": "code",
   "execution_count": 7,
   "metadata": {},
   "outputs": [
    {
     "name": "stdout",
     "output_type": "stream",
     "text": [
      "Essa matriz poderia se tornar um vetor unidimensional com número ímpar de elementos.\n",
      "Matriz:  [[0. 0. 0. 0. 0. 0. 0.]\n",
      " [0. 0. 0. 0. 0. 0. 0.]\n",
      " [0. 0. 0. 0. 0. 0. 0.]\n",
      " [0. 0. 0. 0. 0. 0. 0.]\n",
      " [0. 0. 0. 0. 0. 0. 0.]]\n"
     ]
    }
   ],
   "source": [
    "mtz = np.zeros(tuple(np.random.randint(1, 11, 2))) # matriz de 0's de tamanho qualquer\n",
    "\n",
    "if (mtz.shape[0]*mtz.shape[1])%2 == 0:\n",
    "    print('Essa matriz poderia se tornar um vetor unidimensional com número par de elementos.')\n",
    "else:\n",
    "    print('Essa matriz poderia se tornar um vetor unidimensional com número ímpar de elementos.')\n",
    "\n",
    "print('Matriz: ', mtz)"
   ]
  },
  {
   "cell_type": "markdown",
   "metadata": {},
   "source": [
    "5. Crie uma matriz de tamanho 4x4 formada por números aleatórios inteiros entre 1 e 50 (use seed = 10 antes)\n",
    "\n",
    "    a) Mostre o resultado da média de cada linha e cada coluna da matriz gerada\n",
    "\n",
    "    b) Apresente o maior valor das médias das linhas e também das colunas\n",
    "    \n",
    "    c) Mostre a quantidade de aparições de cada um dos números gerados na matriz. Em seguida, mostre apenas os números que aparecem 2 vezes"
   ]
  },
  {
   "cell_type": "code",
   "execution_count": 6,
   "metadata": {},
   "outputs": [
    {
     "name": "stdout",
     "output_type": "stream",
     "text": [
      "Matriz:  [[10 37 16  1]\n",
      " [29 26 30 49]\n",
      " [30  9 10  1]\n",
      " [43 41 37 17]] \n",
      "\n",
      "A média da linha 1 é 16.0\n",
      "A média da coluna 1 é 28.0\n",
      "A média da linha 2 é 33.5\n",
      "A média da coluna 2 é 28.25\n",
      "A média da linha 3 é 12.5\n",
      "A média da coluna 3 é 23.25\n",
      "A média da linha 4 é 34.5\n",
      "A média da coluna 4 é 17.0\n",
      "\n",
      "O maior valor das médias das linhas é 34.5 e das colunas é 28.25 \n",
      "\n",
      "O número 1 aparece 2 vezes\n",
      "O número 9 aparece 1 vezes\n",
      "O número 10 aparece 2 vezes\n",
      "O número 16 aparece 1 vezes\n",
      "O número 17 aparece 1 vezes\n",
      "O número 26 aparece 1 vezes\n",
      "O número 29 aparece 1 vezes\n",
      "O número 30 aparece 2 vezes\n",
      "O número 37 aparece 2 vezes\n",
      "O número 41 aparece 1 vezes\n",
      "O número 43 aparece 1 vezes\n",
      "O número 49 aparece 1 vezes\n",
      "\n",
      "Os números que aparecem duas vezes são:\n",
      "1\n",
      "10\n",
      "30\n",
      "37\n"
     ]
    }
   ],
   "source": [
    "np.random.seed(10)\n",
    "mtz = np.random.randint(1, 50, [4, 4])\n",
    "\n",
    "print('Matriz: ', mtz, '\\n')\n",
    "\n",
    "media_col = mtz.mean(axis=0)\n",
    "media_li = mtz.mean(axis=1)\n",
    "\n",
    "for i in range(4):\n",
    "    print('A média da linha',(i+1),'é', media_li[i])\n",
    "    print('A média da coluna',(i+1),'é', media_col[i])\n",
    "\n",
    "print('\\nO maior valor das médias das linhas é',media_li.max(),'e das colunas é', media_col.max(),'\\n')\n",
    "\n",
    "aparicoes = np.unique(mtz, return_counts=True)\n",
    "\n",
    "for i in range(aparicoes[0].size):\n",
    "    print('O número',aparicoes[0][i],'aparece',aparicoes[1][i],'vezes')\n",
    "\n",
    "duas_vezes = aparicoes[0][aparicoes[1]==2]\n",
    "\n",
    "print('\\nOs números que aparecem duas vezes são:')\n",
    "for i in duas_vezes:\n",
    "    print(i)"
   ]
  }
 ],
 "metadata": {
  "kernelspec": {
   "display_name": "Python 3",
   "language": "python",
   "name": "python3"
  },
  "language_info": {
   "codemirror_mode": {
    "name": "ipython",
    "version": 3
   },
   "file_extension": ".py",
   "mimetype": "text/x-python",
   "name": "python",
   "nbconvert_exporter": "python",
   "pygments_lexer": "ipython3",
   "version": "3.11.4"
  }
 },
 "nbformat": 4,
 "nbformat_minor": 2
}
