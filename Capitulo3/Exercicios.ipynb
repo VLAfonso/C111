{
 "cells": [
  {
   "cell_type": "markdown",
   "metadata": {},
   "source": [
    "### Exercícios - Capítulo 3"
   ]
  },
  {
   "cell_type": "markdown",
   "metadata": {},
   "source": [
    "1 - Crie uma lista preenchida com os 5 primeiros colocados de um Campeonato de Futebol, na ordem de colocação. Depois mostre: \n",
    "* Apenas os 3 primeiros colocados;\n",
    "* Os últimos 2 colocados;\n",
    "* Uma lista com os times em ordem alfabética;\n",
    "* Em que posição da tabela se encontra o Barcelona"
   ]
  },
  {
   "cell_type": "code",
   "execution_count": 9,
   "metadata": {},
   "outputs": [
    {
     "name": "stdout",
     "output_type": "stream",
     "text": [
      "Os 3 primeiros colocados:  ['Botafogo', 'Flamengo', 'Palmeiras']\n",
      "Os últimos 2 colocados ['Barcelona', 'Real Madrid']\n",
      "Times em ordem alfbética:  ['Barcelona', 'Botafogo', 'Flamengo', 'Palmeiras', 'Real Madrid']\n",
      "Posição da tabela se encontra o Barcelona:  4 °\n"
     ]
    }
   ],
   "source": [
    "# Colocados de um Campeonato de Futebol\n",
    "colocados = ['Botafogo', 'Flamengo', 'Palmeiras', 'Barcelona', 'Real Madrid']\n",
    "\n",
    "print('Os 3 primeiros colocados: ', colocados[:3])\n",
    "print('Os últimos 2 colocados', colocados[-2:])\n",
    "print('Times em ordem alfbética: ', sorted(colocados))\n",
    "print('Posição da tabela se encontra o Barcelona: ', (colocados.index('Barcelona')+1), '°')"
   ]
  },
  {
   "cell_type": "markdown",
   "metadata": {},
   "source": [
    "2 - Crie dois conjuntos, um para cada loja. Identifique quais modelos de smartphones cada uma delas vendem. Em seguida, mostre quais modelos no total você terá opção de comprar se visita-las e quais modelos se encontram disponíveis em ambas as lojas;"
   ]
  },
  {
   "cell_type": "code",
   "execution_count": 20,
   "metadata": {},
   "outputs": [
    {
     "name": "stdout",
     "output_type": "stream",
     "text": [
      "Modelos da Loja 1:  {'Xiaomi 13 Ultra', 'iPhone 15 Pro Max', 'Samsung Galaxy S24 Ultra', 'Google Pixel 8 Pro'}\n",
      "Modelos da Loja 2:  {'iPhone 13 Pro Max', 'Samsung Galaxy A54', 'Xiaomi 13 Ultra', 'Motorola Edge 40 Pro'}\n",
      "Os modelos disponíveis no total se visitar ambas são:  {'Samsung Galaxy S24 Ultra', 'Motorola Edge 40 Pro', 'iPhone 15 Pro Max', 'Xiaomi 13 Ultra', 'Samsung Galaxy A54', 'iPhone 13 Pro Max', 'Google Pixel 8 Pro'}\n",
      "Os modelos disponíveis em ambas as lojas são:  {'Xiaomi 13 Ultra'}\n"
     ]
    }
   ],
   "source": [
    "# Modelos de Smartphones de 2 lojas\n",
    "loja1 = {'Samsung Galaxy S24 Ultra', 'iPhone 15 Pro Max', 'Google Pixel 8 Pro', 'Xiaomi 13 Ultra'}\n",
    "loja2 = {'Samsung Galaxy A54', 'iPhone 13 Pro Max', 'Motorola Edge 40 Pro', 'Xiaomi 13 Ultra'}\n",
    "\n",
    "print('Modelos da Loja 1: ', loja1)\n",
    "print('Modelos da Loja 2: ', loja2)\n",
    "print('Os modelos disponíveis no total se visitar ambas são: ', (loja1|loja2))\n",
    "print('Os modelos disponíveis em ambas as lojas são: ', (loja1&loja2))"
   ]
  },
  {
   "cell_type": "markdown",
   "metadata": {},
   "source": [
    "3 - Faça um programa que leia o nome e a média de um aluno e guardeos em um dicionário. Em seguida, a partir da média (para ser aprovado deve ter média >=50), gere a situação final do aluno (‘AP’ ou ‘RP’), que  também deve ser guardada neste dicionário. No final, mostre todo o conteúdo deste dicionário"
   ]
  },
  {
   "cell_type": "code",
   "execution_count": 3,
   "metadata": {},
   "outputs": [
    {
     "name": "stdout",
     "output_type": "stream",
     "text": [
      "Sua situação final é:  RP\n"
     ]
    }
   ],
   "source": [
    "# Dados do aluno\n",
    "nome = input('Qual seu nome? ')\n",
    "media = float(input('Qual sua média? '))\n",
    "aluno = {'nome': nome, 'media': media}\n",
    "\n",
    "# Verificar aprovacao do aluno\n",
    "if aluno['media'] >= 50:\n",
    "    aluno['situacao'] = 'AP'\n",
    "else:\n",
    "    aluno['situacao'] = 'RP'\n",
    "print('Sua situação final é: ', aluno['situacao'])"
   ]
  },
  {
   "cell_type": "markdown",
   "metadata": {},
   "source": [
    "4 - Faça um programa que leia o nome e peso de 3 pessoas e no final mostre o nome da pessoa mais pesada e a mais leve;"
   ]
  },
  {
   "cell_type": "code",
   "execution_count": 12,
   "metadata": {},
   "outputs": [
    {
     "name": "stdout",
     "output_type": "stream",
     "text": [
      "[{'nome': 'Ana', 'peso': 56.0}, {'nome': 'Carlos', 'peso': 82.0}, {'nome': 'Clara', 'peso': 63.0}]\n",
      "A pessoa mais pessada é:  Carlos\n",
      "A pessoa mais leve é:  Ana\n"
     ]
    }
   ],
   "source": [
    "# Nome e peso de 3 pessoas\n",
    "pessoas = []\n",
    "for i in range(3):\n",
    "    nome = input('Qual o nome da '+str(i+1)+'ª pessoa?')\n",
    "    peso = float(input('Qual o peso da '+str(i+1)+'ª pessoa?'))\n",
    "    pessoas.append({'nome': nome, 'peso': peso})\n",
    "\n",
    "# Ordenar as pessoad por peso\n",
    "pessoas_ordenadas = sorted(pessoas, key = lambda pessoa: pessoa['peso'])\n",
    "\n",
    "print(pessoas)\n",
    "print('A pessoa mais pessada é: ', pessoas_ordenadas[-1]['nome'])\n",
    "print('A pessoa mais leve é: ', pessoas_ordenadas[0]['nome'])"
   ]
  },
  {
   "cell_type": "markdown",
   "metadata": {},
   "source": [
    "5 - Desenvolva um programa que leia o nome, idade e sexo de n pessoas. No final, mostre: \n",
    "* A média de idade do grupo;\n",
    "* Quantas mulheres têm menos de 20 anos."
   ]
  },
  {
   "cell_type": "code",
   "execution_count": 18,
   "metadata": {},
   "outputs": [
    {
     "name": "stdout",
     "output_type": "stream",
     "text": [
      "[{'nome': 'Ana', 'idade': 16, 'sexo': 'F'}, {'nome': 'Bernardo', 'idade': 18, 'sexo': 'M'}, {'nome': 'Carlos', 'idade': 21, 'sexo': 'M'}, {'nome': 'Débora', 'idade': 22, 'sexo': 'F'}, {'nome': 'Elisa', 'idade': 2, 'sexo': 'F'}, {'nome': 'Fernando', 'idade': 25, 'sexo': 'M'}, {'nome': 'Geralda', 'idade': 62, 'sexo': 'F'}, {'nome': 'Henrique', 'idade': 4, 'sexo': 'M'}, {'nome': 'Iara', 'idade': 24, 'sexo': 'F'}, {'nome': 'Jonatan', 'idade': 29, 'sexo': 'M'}]\n",
      "A média de idade do grupo é de  22.3  anos.\n",
      "Há  2  mulheres com menos de 20 anos.\n"
     ]
    }
   ],
   "source": [
    "# Nome, idade e sexo de n pessoas\n",
    "num = int(input('Há quantas pessoas no grupo? '))\n",
    "pessoas = []\n",
    "for i in range(num):\n",
    "    nome = input('Qual o nome da '+str(i+1)+'ª pessoa?')\n",
    "    idade = int(input('Qual a idade da '+str(i+1)+'ª pessoa?'))\n",
    "    sexo = input('Qual o sexo da '+str(i+1)+'ª pessoa? (M - masculino | F - feminino)')\n",
    "    pessoas.append({'nome': nome, 'idade': idade, 'sexo': sexo})\n",
    "\n",
    "# Média de idade do grupo e qtd de mulheres com menos de 20 anos\n",
    "media_idade = (sum(pessoa['idade'] for pessoa in pessoas))/num\n",
    "mulheres_menos20 = sum(1 for pessoa in pessoas if (pessoa['sexo'] == 'F') and (pessoa['idade']<20))\n",
    "\n",
    "print(pessoas)\n",
    "print('A média de idade do grupo é de ', media_idade, ' anos.')\n",
    "print('Há ', mulheres_menos20, ' mulheres com menos de 20 anos.')\n"
   ]
  }
 ],
 "metadata": {
  "kernelspec": {
   "display_name": "Python 3",
   "language": "python",
   "name": "python3"
  },
  "language_info": {
   "codemirror_mode": {
    "name": "ipython",
    "version": 3
   },
   "file_extension": ".py",
   "mimetype": "text/x-python",
   "name": "python",
   "nbconvert_exporter": "python",
   "pygments_lexer": "ipython3",
   "version": "3.11.4"
  }
 },
 "nbformat": 4,
 "nbformat_minor": 2
}
