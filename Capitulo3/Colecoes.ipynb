{
 "cells": [
  {
   "cell_type": "markdown",
   "metadata": {},
   "source": [
    "### Tuplas"
   ]
  },
  {
   "cell_type": "code",
   "execution_count": 2,
   "metadata": {},
   "outputs": [
    {
     "name": "stdout",
     "output_type": "stream",
     "text": [
      "('Goku', 'Vegeta', 'Trunks', 'Gohan')\n",
      "Goku\n",
      "('Goku', 'Vegeta')\n",
      "('Trunks', 'Gohan')\n",
      "('Vegeta', 'Trunks')\n",
      "Gohan\n"
     ]
    }
   ],
   "source": [
    "nomes = ('Goku', 'Vegeta', 'Trunks', 'Gohan')\n",
    "print(nomes)\n",
    "\n",
    "# SLICING DE DADOS\n",
    "print(nomes[0]) # Goku\n",
    "# No Python, o 1° indice de uma colecao é INCLUSIVE e o segundo indice EXCLUSIVE\n",
    "print(nomes[:2]) #Goku e Vegeta\n",
    "print(nomes[2:]) # Trunks e Gohan\n",
    "print(nomes[1:3]) # Vegeta e Trunks\n",
    "print(nomes[-1]) # Gohan"
   ]
  },
  {
   "cell_type": "code",
   "execution_count": 4,
   "metadata": {},
   "outputs": [
    {
     "ename": "TypeError",
     "evalue": "'tuple' object does not support item assignment",
     "output_type": "error",
     "traceback": [
      "\u001b[1;31m---------------------------------------------------------------------------\u001b[0m",
      "\u001b[1;31mTypeError\u001b[0m                                 Traceback (most recent call last)",
      "Cell \u001b[1;32mIn[4], line 2\u001b[0m\n\u001b[0;32m      1\u001b[0m \u001b[38;5;66;03m# TENTANDO ALTERAR UMA TUPLA\u001b[39;00m\n\u001b[1;32m----> 2\u001b[0m \u001b[43mnomes\u001b[49m\u001b[43m[\u001b[49m\u001b[38;5;241;43m0\u001b[39;49m\u001b[43m]\u001b[49m \u001b[38;5;241m=\u001b[39m \u001b[38;5;124m'\u001b[39m\u001b[38;5;124mBulma\u001b[39m\u001b[38;5;124m'\u001b[39m\n\u001b[0;32m      3\u001b[0m \u001b[38;5;28mprint\u001b[39m(nomes)\n",
      "\u001b[1;31mTypeError\u001b[0m: 'tuple' object does not support item assignment"
     ]
    }
   ],
   "source": [
    "# TENTANDO ALTERAR UMA TUPLA\n",
    "nomes[0] = 'Bulma'\n",
    "print(nomes)"
   ]
  },
  {
   "cell_type": "markdown",
   "metadata": {},
   "source": [
    "### Listas"
   ]
  },
  {
   "cell_type": "code",
   "execution_count": 9,
   "metadata": {},
   "outputs": [
    {
     "name": "stdout",
     "output_type": "stream",
     "text": [
      "['Goku', 'Vegeta', 'Piccolo', 'Trunks', 'Gohan', 'Bulma']\n",
      "['Goten', 'Piccolo', 'Gohan', 'Bulma']\n",
      "Piccolo is here!\n"
     ]
    }
   ],
   "source": [
    "nomes = ['Goku', 'Vegeta', 'Trunks', 'Gohan']\n",
    "\n",
    "# INSERT\n",
    "nomes.append('Bulma') # insere no final\n",
    "nomes.insert(2, 'Piccolo') # insere em uma posicao especifica\n",
    "print(nomes)\n",
    "\n",
    "# UPDATE\n",
    "nomes[0] = 'Goten'\n",
    "\n",
    "# DELETE\n",
    "del nomes[1] # excluindo pelo indice / nomes.pop(1)\n",
    "nomes.remove('Trunks')\n",
    "\n",
    "print(nomes)\n",
    "\n",
    "if 'Piccolo' in nomes:\n",
    "    print('Piccolo is here!')"
   ]
  },
  {
   "cell_type": "markdown",
   "metadata": {},
   "source": [
    "### Conjuntos"
   ]
  },
  {
   "cell_type": "code",
   "execution_count": null,
   "metadata": {},
   "outputs": [
    {
     "name": "stdout",
     "output_type": "stream",
     "text": [
      "{'Goku', 'Gohan', 'Vegeta', 'Trunks'}\n"
     ]
    }
   ],
   "source": [
    "nomes = {'Goku', 'Vegeta', 'Trunks', 'Gohan', 'Trunks', 'Goku'}\n",
    "print(nomes)\n",
    "\n",
    "# ADICIONAR\n",
    "nomes.add('Kami')\n",
    "\n",
    "# DELETE\n",
    "nomes.remove('Vegeta')\n",
    "\n",
    "# UPDATE ??"
   ]
  },
  {
   "cell_type": "markdown",
   "metadata": {},
   "source": [
    "### Dicionários"
   ]
  },
  {
   "cell_type": "code",
   "execution_count": 15,
   "metadata": {},
   "outputs": [
    {
     "name": "stdout",
     "output_type": "stream",
     "text": [
      "{'nome': 'Goku', 'idade': 42}\n",
      "Goku\n",
      "{'nome': 'Vegeta', 'idade': 42}\n"
     ]
    }
   ],
   "source": [
    "pessoa = {'nome':'Goku','idade':42}\n",
    "print(pessoa)\n",
    "\n",
    "# ACESSAR\n",
    "print(pessoa['nome'])\n",
    "\n",
    "# INSERT\n",
    "pessoa['sexo'] = 'M'\n",
    "\n",
    "# UPDATE\n",
    "pessoa['nome'] = 'Vegeta'\n",
    "\n",
    "# DELETE\n",
    "del pessoa['sexo']\n",
    "\n",
    "print(pessoa)"
   ]
  }
 ],
 "metadata": {
  "kernelspec": {
   "display_name": "Python 3",
   "language": "python",
   "name": "python3"
  },
  "language_info": {
   "codemirror_mode": {
    "name": "ipython",
    "version": 3
   },
   "file_extension": ".py",
   "mimetype": "text/x-python",
   "name": "python",
   "nbconvert_exporter": "python",
   "pygments_lexer": "ipython3",
   "version": "3.11.4"
  }
 },
 "nbformat": 4,
 "nbformat_minor": 2
}
